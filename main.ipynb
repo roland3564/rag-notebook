{
 "cells": [
  {
   "cell_type": "markdown",
   "id": "a0e63a5a",
   "metadata": {},
   "source": [
    "### Import libraries\n"
   ]
  },
  {
   "cell_type": "code",
   "id": "996219dd",
   "metadata": {
    "ExecuteTime": {
     "end_time": "2025-07-10T12:42:48.443006Z",
     "start_time": "2025-07-10T12:42:48.439864Z"
    }
   },
   "source": [
    "from langchain_chroma import Chroma\n",
    "from langchain_community.document_loaders import PyPDFLoader\n",
    "from langchain_ollama import ChatOllama\n",
    "from langchain_community.embeddings.fastembed import FastEmbedEmbeddings\n",
    "from langchain.text_splitter import RecursiveCharacterTextSplitter\n",
    "from langchain.prompts import PromptTemplate\n",
    "from langchain.chains.combine_documents import create_stuff_documents_chain\n",
    "from langchain.chains import create_retrieval_chain\n",
    "import sys"
   ],
   "outputs": [],
   "execution_count": 18
  },
  {
   "cell_type": "markdown",
   "id": "434477ff",
   "metadata": {},
   "source": [
    "### Split the doucment into Chunks & Store them in Vector Store"
   ]
  },
  {
   "cell_type": "code",
   "id": "2b25ed80",
   "metadata": {
    "ExecuteTime": {
     "end_time": "2025-07-10T12:42:48.465434Z",
     "start_time": "2025-07-10T12:42:48.455794Z"
    }
   },
   "source": [
    "def ingest():\n",
    "    # Get the doc\n",
    "    loader = PyPDFLoader('data/data.pdf')\n",
    "    pages = loader.load_and_split()\n",
    "    # Split the pages by char\n",
    "    text_splitter = RecursiveCharacterTextSplitter(\n",
    "        chunk_size=1024,\n",
    "        chunk_overlap=100,\n",
    "        length_function=len,\n",
    "        add_start_index=True,\n",
    "    )\n",
    "    chunks = text_splitter.split_documents(pages)\n",
    "    print(f\"Split {len(pages)} documents into {len(chunks)} chunks.\")\n",
    "    #\n",
    "    embedding = FastEmbedEmbeddings()\n",
    "    #Create vector store\n",
    "    Chroma.from_documents(documents=chunks,  embedding=embedding, persist_directory=\"./sql_chroma_db\")\n",
    "\n",
    "    for i, chunk in enumerate(chunks[:5]):\n",
    "        print(f\"\\n[Chunk {i+1}]\")\n",
    "        print(chunk.page_content)"
   ],
   "outputs": [],
   "execution_count": 19
  },
  {
   "cell_type": "code",
   "id": "b86ffb10",
   "metadata": {
    "ExecuteTime": {
     "end_time": "2025-07-10T12:42:54.680134Z",
     "start_time": "2025-07-10T12:42:48.520610Z"
    }
   },
   "source": [
    "# only run this once to generate vector store\n",
    "ingest()"
   ],
   "outputs": [
    {
     "name": "stdout",
     "output_type": "stream",
     "text": [
      "Split 1 documents into 1 chunks.\n",
      "\n",
      "[Chunk 1]\n",
      "Roland Galletta Elmov began to like Mayan astrology at June 2025, but abandoned it in July 2025 \n",
      "because it's deemed harmful.\n"
     ]
    }
   ],
   "execution_count": 20
  },
  {
   "cell_type": "code",
   "id": "34dab52c",
   "metadata": {
    "ExecuteTime": {
     "end_time": "2025-07-10T12:42:54.874681Z",
     "start_time": "2025-07-10T12:42:54.728334Z"
    }
   },
   "source": [
    "from huggingface_hub import login\n",
    "access_token_read = \"token\"\n",
    "access_token_write = \"token\"\n",
    "login(token = access_token_read)"
   ],
   "outputs": [],
   "execution_count": 21
  },
  {
   "cell_type": "markdown",
   "id": "a2a399d5",
   "metadata": {
    "heading_collapsed": true
   },
   "source": [
    "### Create a RAG chain that retreives relevent chunks and prepares a response"
   ]
  },
  {
   "cell_type": "code",
   "id": "ad470f8d",
   "metadata": {
    "hidden": true,
    "ExecuteTime": {
     "end_time": "2025-07-10T12:42:54.896309Z",
     "start_time": "2025-07-10T12:42:54.890617Z"
    }
   },
   "source": [
    "def rag_chain():\n",
    "    model = ChatOllama(model=\"llama3.1:8b-instruct-q2_K\")\n",
    "    #\n",
    "    prompt = PromptTemplate.from_template(\n",
    "        \"\"\"\n",
    "    You are an angry assistant. You must answer the question **only** using the context provided.\n",
    "    If the answer is not in the context, reply exactly with: \"No context available for this question.\"\n",
    "\n",
    "    Question: {input}\n",
    "\n",
    "    Context:\n",
    "    {context}\n",
    "\n",
    "    Answer:\n",
    "    \"\"\"\n",
    "    )\n",
    "    #Load vector store\n",
    "    embedding = FastEmbedEmbeddings()\n",
    "    vector_store = Chroma(persist_directory=\"./sql_chroma_db\", embedding_function=embedding)\n",
    "\n",
    "    #Create chain\n",
    "    retriever = vector_store.as_retriever(\n",
    "        search_type=\"similarity\",\n",
    "        search_kwargs={\n",
    "            \"k\": 5,\n",
    "        },\n",
    "    )\n",
    "\n",
    "    document_chain = create_stuff_documents_chain(model, prompt)\n",
    "    chain = create_retrieval_chain(retriever, document_chain)\n",
    "    #\n",
    "    return chain\n"
   ],
   "outputs": [],
   "execution_count": 22
  },
  {
   "cell_type": "code",
   "id": "9467e9e7",
   "metadata": {
    "hidden": true,
    "ExecuteTime": {
     "end_time": "2025-07-10T12:42:54.953596Z",
     "start_time": "2025-07-10T12:42:54.946254Z"
    }
   },
   "source": [
    "def ask(query: str):\n",
    "    #\n",
    "    chain = rag_chain()\n",
    "    # invoke chain\n",
    "    result = chain.invoke({\"input\": query})\n",
    "\n",
    "    print(\"\\n--- Answer ---\")\n",
    "    print(result[\"answer\"])\n",
    "    print(\"\\n--- Retrieved Contexts ---\")\n",
    "    for i, doc in enumerate(result[\"context\"]):\n",
    "        print(f\"\\n[Chunk {i+1}]\")\n",
    "        print(doc.page_content)\n",
    "        print(\"Source:\", doc.metadata.get(\"source\"))"
   ],
   "outputs": [],
   "execution_count": 23
  },
  {
   "cell_type": "markdown",
   "id": "dae9f6ce",
   "metadata": {},
   "source": [
    "### Ask Question to get relevant information from the document"
   ]
  },
  {
   "cell_type": "code",
   "id": "a536050c",
   "metadata": {
    "ExecuteTime": {
     "end_time": "2025-07-10T12:42:56.543092Z",
     "start_time": "2025-07-10T12:42:54.996062Z"
    }
   },
   "source": "ask(\"When did Roland start to like Mayan astrology and when did he stop liking it?\")",
   "outputs": [
    {
     "name": "stdout",
     "output_type": "stream",
     "text": [
      "\n",
      "--- Answer ---\n",
      "June and July 2025.\n",
      "\n",
      "--- Retrieved Contexts ---\n",
      "\n",
      "[Chunk 1]\n",
      "Roland Galletta Elmov began to like Mayan astrology at June 2025, but abandoned it in July 2025 \n",
      "because it's deemed harmful.\n",
      "Source: data/data.pdf\n",
      "\n",
      "[Chunk 2]\n",
      "Roland Galletta Elmov began to like Mayan astrology at June 2025, but abandoned it in July 2025 \n",
      "because it's deemed harmful.\n",
      "Source: data/data.pdf\n",
      "\n",
      "[Chunk 3]\n",
      "Roland Galletta Elmov began to like Mayan astrology at June 2025, but abandoned it in July 2025 \n",
      "because it's deemed harmful.\n",
      "Source: data/data.pdf\n",
      "\n",
      "[Chunk 4]\n",
      "Roland Galletta Elmov began to like Mayan astrology at June 2025, but abandoned it in July 2025 \n",
      "because it's deemed harmful.\n",
      "Source: data/data.pdf\n",
      "\n",
      "[Chunk 5]\n",
      "Roland Galletta Elmov began to like Mayan astrology at June 2025, but abandoned it in July 2025 \n",
      "because it's deemed harmful.\n",
      "Source: data/data.pdf\n"
     ]
    }
   ],
   "execution_count": 24
  },
  {
   "cell_type": "code",
   "id": "722f441a",
   "metadata": {
    "ExecuteTime": {
     "end_time": "2025-07-10T12:42:56.555787Z",
     "start_time": "2025-07-10T12:42:56.554321Z"
    }
   },
   "source": "",
   "outputs": [],
   "execution_count": null
  },
  {
   "metadata": {
    "ExecuteTime": {
     "end_time": "2025-07-10T12:42:56.604333Z",
     "start_time": "2025-07-10T12:42:56.602639Z"
    }
   },
   "cell_type": "code",
   "source": "",
   "id": "43782370f81acd1b",
   "outputs": [],
   "execution_count": null
  },
  {
   "cell_type": "code",
   "id": "b1a4837a",
   "metadata": {
    "ExecuteTime": {
     "end_time": "2025-07-10T12:42:56.657560Z",
     "start_time": "2025-07-10T12:42:56.655047Z"
    }
   },
   "source": [],
   "outputs": [],
   "execution_count": null
  },
  {
   "cell_type": "code",
   "id": "74072234",
   "metadata": {
    "ExecuteTime": {
     "end_time": "2025-07-10T12:42:56.715424Z",
     "start_time": "2025-07-10T12:42:56.711732Z"
    }
   },
   "source": [],
   "outputs": [],
   "execution_count": null
  },
  {
   "cell_type": "code",
   "id": "71c25eb9",
   "metadata": {
    "ExecuteTime": {
     "end_time": "2025-07-10T12:42:56.770241Z",
     "start_time": "2025-07-10T12:42:56.767300Z"
    }
   },
   "source": [],
   "outputs": [],
   "execution_count": null
  },
  {
   "cell_type": "code",
   "id": "12bc2f66",
   "metadata": {
    "ExecuteTime": {
     "end_time": "2025-07-10T12:42:56.824500Z",
     "start_time": "2025-07-10T12:42:56.821606Z"
    }
   },
   "source": [],
   "outputs": [],
   "execution_count": null
  },
  {
   "cell_type": "code",
   "id": "57c47a09",
   "metadata": {
    "ExecuteTime": {
     "end_time": "2025-07-10T12:42:56.881422Z",
     "start_time": "2025-07-10T12:42:56.878586Z"
    }
   },
   "source": [],
   "outputs": [],
   "execution_count": null
  },
  {
   "cell_type": "code",
   "id": "1339ad89",
   "metadata": {
    "ExecuteTime": {
     "end_time": "2025-07-10T12:42:56.937191Z",
     "start_time": "2025-07-10T12:42:56.934202Z"
    }
   },
   "source": [],
   "outputs": [],
   "execution_count": null
  },
  {
   "cell_type": "code",
   "id": "e882ff15",
   "metadata": {
    "ExecuteTime": {
     "end_time": "2025-07-10T12:42:56.981470Z",
     "start_time": "2025-07-10T12:42:56.980120Z"
    }
   },
   "source": [],
   "outputs": [],
   "execution_count": null
  },
  {
   "cell_type": "code",
   "id": "771a1863",
   "metadata": {
    "ExecuteTime": {
     "end_time": "2025-07-10T12:42:57.040174Z",
     "start_time": "2025-07-10T12:42:57.036957Z"
    }
   },
   "source": [],
   "outputs": [],
   "execution_count": null
  },
  {
   "cell_type": "code",
   "id": "571c0784",
   "metadata": {
    "ExecuteTime": {
     "end_time": "2025-07-10T12:42:57.094987Z",
     "start_time": "2025-07-10T12:42:57.092318Z"
    }
   },
   "source": [],
   "outputs": [],
   "execution_count": null
  },
  {
   "cell_type": "code",
   "id": "cbeb3aba",
   "metadata": {
    "ExecuteTime": {
     "end_time": "2025-07-10T12:42:57.151775Z",
     "start_time": "2025-07-10T12:42:57.148862Z"
    }
   },
   "source": [],
   "outputs": [],
   "execution_count": null
  }
 ],
 "metadata": {
  "kernelspec": {
   "display_name": "Python 3 (ipykernel)",
   "language": "python",
   "name": "python3"
  },
  "language_info": {
   "codemirror_mode": {
    "name": "ipython",
    "version": 3
   },
   "file_extension": ".py",
   "mimetype": "text/x-python",
   "name": "python",
   "nbconvert_exporter": "python",
   "pygments_lexer": "ipython3",
   "version": "3.9.13"
  },
  "widgets": {
   "application/vnd.jupyter.widget-state+json": {
    "state": {
     "0027e0cd5db948fb87c2a73f91a6d54a": {
      "model_module": "@jupyter-widgets/base",
      "model_module_version": "2.0.0",
      "model_name": "LayoutModel",
      "state": {}
     },
     "00752411c4fb44819ff2d51290a69ff2": {
      "model_module": "@jupyter-widgets/controls",
      "model_module_version": "2.0.0",
      "model_name": "ProgressStyleModel",
      "state": {
       "description_width": ""
      }
     },
     "04f0e04a42b547b893d9afcd4872af0b": {
      "model_module": "@jupyter-widgets/controls",
      "model_module_version": "2.0.0",
      "model_name": "HTMLModel",
      "state": {
       "layout": "IPY_MODEL_6fba5810e8fa41fe83dacb0c8c0b59fd",
       "style": "IPY_MODEL_3c55597db92a41598b9a46c49a784a6f",
       "value": "README.md: 100%"
      }
     },
     "05dc9f68501e4feba6497cf0dd458c74": {
      "model_module": "@jupyter-widgets/controls",
      "model_module_version": "2.0.0",
      "model_name": "HBoxModel",
      "state": {
       "children": [
        "IPY_MODEL_19f8a2ea98e445ec8f28a3827571cfd8",
        "IPY_MODEL_a871ce3e2ae24017b4e79c4e66ceb903",
        "IPY_MODEL_5501a37d0bf0494bac8bd5457a77abf6"
       ],
       "layout": "IPY_MODEL_c399c43ab0504deaade666a3968fadc3"
      }
     },
     "096169678d0447098134c2d20a05a5f6": {
      "model_module": "@jupyter-widgets/base",
      "model_module_version": "2.0.0",
      "model_name": "LayoutModel",
      "state": {}
     },
     "0a18e30b560d4d4193d93c66f86cadea": {
      "model_module": "@jupyter-widgets/base",
      "model_module_version": "2.0.0",
      "model_name": "LayoutModel",
      "state": {}
     },
     "0fb7245ab4af44e5aa967826a1113465": {
      "model_module": "@jupyter-widgets/controls",
      "model_module_version": "2.0.0",
      "model_name": "HBoxModel",
      "state": {
       "children": [
        "IPY_MODEL_e75f67607f67468e9e0864ab348d0d45",
        "IPY_MODEL_695f170d93b74d32b2621ecf96054a48",
        "IPY_MODEL_65477444757f40b69c60d64ae09aa3b1"
       ],
       "layout": "IPY_MODEL_e28a654ed6c8457fb01c14ad281a3f1f"
      }
     },
     "11708841e8574c5e98f092e498fd872e": {
      "model_module": "@jupyter-widgets/controls",
      "model_module_version": "2.0.0",
      "model_name": "ProgressStyleModel",
      "state": {
       "description_width": ""
      }
     },
     "15eeedfaf0084bbf808fc9ef1b1beee2": {
      "model_module": "@jupyter-widgets/base",
      "model_module_version": "2.0.0",
      "model_name": "LayoutModel",
      "state": {}
     },
     "15ef88fe2c8c4d41a15d934db4c48052": {
      "model_module": "@jupyter-widgets/controls",
      "model_module_version": "2.0.0",
      "model_name": "HBoxModel",
      "state": {
       "children": [
        "IPY_MODEL_32186289ebf245b28428bb278eaa39f4",
        "IPY_MODEL_d04a49ec494947699b499a036fa17338",
        "IPY_MODEL_b01ff7a694234d1a8f840cb0cd34a4e9"
       ],
       "layout": "IPY_MODEL_d356533eb6aa44679db35ffce0ac918e"
      }
     },
     "1623459addd84799a7a1ac22e8f6f1ea": {
      "model_module": "@jupyter-widgets/controls",
      "model_module_version": "2.0.0",
      "model_name": "FloatProgressModel",
      "state": {
       "bar_style": "success",
       "layout": "IPY_MODEL_5b348a9a3a1741eba851230483f67db4",
       "max": 28,
       "style": "IPY_MODEL_00752411c4fb44819ff2d51290a69ff2",
       "value": 28
      }
     },
     "17a83a53503f41f395cecfca1ac54759": {
      "model_module": "@jupyter-widgets/controls",
      "model_module_version": "2.0.0",
      "model_name": "HTMLStyleModel",
      "state": {
       "description_width": "",
       "font_size": null,
       "text_color": null
      }
     },
     "19f8a2ea98e445ec8f28a3827571cfd8": {
      "model_module": "@jupyter-widgets/controls",
      "model_module_version": "2.0.0",
      "model_name": "HTMLModel",
      "state": {
       "layout": "IPY_MODEL_e30cb7cf919c4c2f9b18a633c9275ce8",
       "style": "IPY_MODEL_2d2c179e4ade4600a35d4a4a4e8e1ffe",
       "value": "special_tokens_map.json: 100%"
      }
     },
     "234b6a75c001497ebde5004452103d24": {
      "model_module": "@jupyter-widgets/controls",
      "model_module_version": "2.0.0",
      "model_name": "HTMLStyleModel",
      "state": {
       "description_width": "",
       "font_size": null,
       "text_color": null
      }
     },
     "243d04709a8643c29aa0a36a8079746d": {
      "model_module": "@jupyter-widgets/controls",
      "model_module_version": "2.0.0",
      "model_name": "FloatProgressModel",
      "state": {
       "bar_style": "success",
       "layout": "IPY_MODEL_c8498a70401b46a6a680a2b55908c657",
       "max": 66465124,
       "style": "IPY_MODEL_d6db404292bd47ada4a24362ab6ae0e8",
       "value": 66465124
      }
     },
     "26abb87891aa4c3392d4d232efe481df": {
      "model_module": "@jupyter-widgets/controls",
      "model_module_version": "2.0.0",
      "model_name": "HBoxModel",
      "state": {
       "children": [
        "IPY_MODEL_04f0e04a42b547b893d9afcd4872af0b",
        "IPY_MODEL_1623459addd84799a7a1ac22e8f6f1ea",
        "IPY_MODEL_4c948cf8eb5545c2b2faa2be5b7dc56e"
       ],
       "layout": "IPY_MODEL_bf777cffaa0c4789af86eae27dbbbba7"
      }
     },
     "27ba787c9fd64a65a894409800eae1d9": {
      "model_module": "@jupyter-widgets/controls",
      "model_module_version": "2.0.0",
      "model_name": "HTMLModel",
      "state": {
       "layout": "IPY_MODEL_096169678d0447098134c2d20a05a5f6",
       "style": "IPY_MODEL_2d4a0451a79843c0b9a6897557693522",
       "value": "vocab.txt: 100%"
      }
     },
     "284132bf31e84fe0b4e3f69c929ee43f": {
      "model_module": "@jupyter-widgets/base",
      "model_module_version": "2.0.0",
      "model_name": "LayoutModel",
      "state": {}
     },
     "2885e6b7d0fb48dcaddb964a433cab19": {
      "model_module": "@jupyter-widgets/base",
      "model_module_version": "2.0.0",
      "model_name": "LayoutModel",
      "state": {}
     },
     "29ab43a2dfa545379a284de1e684950d": {
      "model_module": "@jupyter-widgets/controls",
      "model_module_version": "2.0.0",
      "model_name": "HTMLStyleModel",
      "state": {
       "description_width": "",
       "font_size": null,
       "text_color": null
      }
     },
     "29b5ffabe4824062b25a51bb0377ffb1": {
      "model_module": "@jupyter-widgets/base",
      "model_module_version": "2.0.0",
      "model_name": "LayoutModel",
      "state": {}
     },
     "2b4ac288bceb41a1bfec6bfa61e29361": {
      "model_module": "@jupyter-widgets/base",
      "model_module_version": "2.0.0",
      "model_name": "LayoutModel",
      "state": {}
     },
     "2b91cfae26364fe295c47392e86b77c7": {
      "model_module": "@jupyter-widgets/controls",
      "model_module_version": "2.0.0",
      "model_name": "HBoxModel",
      "state": {
       "children": [
        "IPY_MODEL_dfbb0ad9b4ed4d93bfd5edae6e4f8f06",
        "IPY_MODEL_ae9f5365bfc34aa7959bf59e527e6339",
        "IPY_MODEL_a905d81cf24549b28764a6217c123778"
       ],
       "layout": "IPY_MODEL_84932d00eeaf4368a32b1e123a32b941"
      }
     },
     "2d2c179e4ade4600a35d4a4a4e8e1ffe": {
      "model_module": "@jupyter-widgets/controls",
      "model_module_version": "2.0.0",
      "model_name": "HTMLStyleModel",
      "state": {
       "description_width": "",
       "font_size": null,
       "text_color": null
      }
     },
     "2d4a0451a79843c0b9a6897557693522": {
      "model_module": "@jupyter-widgets/controls",
      "model_module_version": "2.0.0",
      "model_name": "HTMLStyleModel",
      "state": {
       "description_width": "",
       "font_size": null,
       "text_color": null
      }
     },
     "32186289ebf245b28428bb278eaa39f4": {
      "model_module": "@jupyter-widgets/controls",
      "model_module_version": "2.0.0",
      "model_name": "HTMLModel",
      "state": {
       "layout": "IPY_MODEL_b77e5c4d18104c7b84ef5b3b3a0c4a51",
       "style": "IPY_MODEL_f94a4ad60b6c464cae7d3fe783eb66db",
       "value": "tokenizer.json: 100%"
      }
     },
     "3564fbb23d3c4fb0b36fc2a98a3657a8": {
      "model_module": "@jupyter-widgets/controls",
      "model_module_version": "2.0.0",
      "model_name": "FloatProgressModel",
      "state": {
       "bar_style": "success",
       "layout": "IPY_MODEL_cc404358f51f458e937ac79dfacb2aea",
       "max": 231508,
       "style": "IPY_MODEL_871a95fb43894e7fbc81d1683b8ae986",
       "value": 231508
      }
     },
     "3723464042ad4e59b35317fed302c1c5": {
      "model_module": "@jupyter-widgets/controls",
      "model_module_version": "2.0.0",
      "model_name": "HTMLStyleModel",
      "state": {
       "description_width": "",
       "font_size": null,
       "text_color": null
      }
     },
     "37465b50ec9940a2bdf7b7d4e21729c6": {
      "model_module": "@jupyter-widgets/controls",
      "model_module_version": "2.0.0",
      "model_name": "HTMLStyleModel",
      "state": {
       "description_width": "",
       "font_size": null,
       "text_color": null
      }
     },
     "382393313d6d40408c4b1c6df23ee888": {
      "model_module": "@jupyter-widgets/controls",
      "model_module_version": "2.0.0",
      "model_name": "HTMLModel",
      "state": {
       "layout": "IPY_MODEL_2b4ac288bceb41a1bfec6bfa61e29361",
       "style": "IPY_MODEL_dc2a7c5f43da4f3ca11d3fa0f309d708",
       "value": " 1.24k/1.24k [00:00&lt;00:00, 65.4kB/s]"
      }
     },
     "3b1482a868fc43c8a2a0bef8a77a7c76": {
      "model_module": "@jupyter-widgets/base",
      "model_module_version": "2.0.0",
      "model_name": "LayoutModel",
      "state": {}
     },
     "3b4d5c87c6fd488cbf92fae5c674d9c0": {
      "model_module": "@jupyter-widgets/controls",
      "model_module_version": "2.0.0",
      "model_name": "FloatProgressModel",
      "state": {
       "bar_style": "success",
       "layout": "IPY_MODEL_ff5d3ea29527464396b4e329cbd357c6",
       "max": 9,
       "style": "IPY_MODEL_11708841e8574c5e98f092e498fd872e",
       "value": 9
      }
     },
     "3c30ae35102c4faaa8f46f02a93ec8d6": {
      "model_module": "@jupyter-widgets/controls",
      "model_module_version": "2.0.0",
      "model_name": "HTMLModel",
      "state": {
       "layout": "IPY_MODEL_ddfcfd734eeb4970b3f0fcd83ad307d8",
       "style": "IPY_MODEL_d2282dbbb614494fa223266bee1c56c3",
       "value": " 9/9 [00:00&lt;00:00,  4.78it/s]"
      }
     },
     "3c3ced58b7d74777aadd51f92ede9694": {
      "model_module": "@jupyter-widgets/base",
      "model_module_version": "2.0.0",
      "model_name": "LayoutModel",
      "state": {}
     },
     "3c55597db92a41598b9a46c49a784a6f": {
      "model_module": "@jupyter-widgets/controls",
      "model_module_version": "2.0.0",
      "model_name": "HTMLStyleModel",
      "state": {
       "description_width": "",
       "font_size": null,
       "text_color": null
      }
     },
     "3daffa07f10b489c900b87a411e7cbc4": {
      "model_module": "@jupyter-widgets/base",
      "model_module_version": "2.0.0",
      "model_name": "LayoutModel",
      "state": {}
     },
     "3e479a1819554324b2bcb1fa71bf45ec": {
      "model_module": "@jupyter-widgets/base",
      "model_module_version": "2.0.0",
      "model_name": "LayoutModel",
      "state": {}
     },
     "42541e974a21456eab6347a023bb15ed": {
      "model_module": "@jupyter-widgets/base",
      "model_module_version": "2.0.0",
      "model_name": "LayoutModel",
      "state": {}
     },
     "441f9ac42e9144f794d3aa65be19544c": {
      "model_module": "@jupyter-widgets/controls",
      "model_module_version": "2.0.0",
      "model_name": "HBoxModel",
      "state": {
       "children": [
        "IPY_MODEL_638d304336e24bd69b70b17bb66f50ff",
        "IPY_MODEL_ed205bf7cd9b4937a883c49c64bfad59",
        "IPY_MODEL_6f81be7e3694493aaaadf07b38ec5580"
       ],
       "layout": "IPY_MODEL_284132bf31e84fe0b4e3f69c929ee43f"
      }
     },
     "465df3e4d59e4f9d8224a6348ae34c45": {
      "model_module": "@jupyter-widgets/controls",
      "model_module_version": "2.0.0",
      "model_name": "HTMLStyleModel",
      "state": {
       "description_width": "",
       "font_size": null,
       "text_color": null
      }
     },
     "484807564af24f20a4aef28c2fdc4ccc": {
      "model_module": "@jupyter-widgets/base",
      "model_module_version": "2.0.0",
      "model_name": "LayoutModel",
      "state": {}
     },
     "4bce3ceefae4407ab3669fe4f71d8581": {
      "model_module": "@jupyter-widgets/controls",
      "model_module_version": "2.0.0",
      "model_name": "ProgressStyleModel",
      "state": {
       "description_width": ""
      }
     },
     "4c948cf8eb5545c2b2faa2be5b7dc56e": {
      "model_module": "@jupyter-widgets/controls",
      "model_module_version": "2.0.0",
      "model_name": "HTMLModel",
      "state": {
       "layout": "IPY_MODEL_c57d5ca3041b4393bfb66030952b2428",
       "style": "IPY_MODEL_3723464042ad4e59b35317fed302c1c5",
       "value": " 28.0/28.0 [00:00&lt;00:00, 823B/s]"
      }
     },
     "4d399b60dc4542a7bf355a8a06582082": {
      "model_module": "@jupyter-widgets/controls",
      "model_module_version": "2.0.0",
      "model_name": "HBoxModel",
      "state": {
       "children": [
        "IPY_MODEL_b869ebece57e45db804beb7c1a38c88a",
        "IPY_MODEL_90599f55741e4c3ca4a6c3a2dd3fe656",
        "IPY_MODEL_eae677feeb524866b63e0500bb4b5e98"
       ],
       "layout": "IPY_MODEL_3e479a1819554324b2bcb1fa71bf45ec"
      }
     },
     "4ffd7debfe874f77b03730b03a75d190": {
      "model_module": "@jupyter-widgets/controls",
      "model_module_version": "2.0.0",
      "model_name": "HTMLModel",
      "state": {
       "layout": "IPY_MODEL_0027e0cd5db948fb87c2a73f91a6d54a",
       "style": "IPY_MODEL_c400c3db82d84760a17631b253afc998",
       "value": " 9/9 [00:00&lt;00:00, 1287.12it/s]"
      }
     },
     "519f3d0999be465d87f8b3b8fb5b6b70": {
      "model_module": "@jupyter-widgets/base",
      "model_module_version": "2.0.0",
      "model_name": "LayoutModel",
      "state": {}
     },
     "53e4fa8be92f4e1693c41a0ce5d77ad6": {
      "model_module": "@jupyter-widgets/controls",
      "model_module_version": "2.0.0",
      "model_name": "HTMLModel",
      "state": {
       "layout": "IPY_MODEL_3c3ced58b7d74777aadd51f92ede9694",
       "style": "IPY_MODEL_754e00935f574a65ba3391e08781b08c",
       "value": "Fetching 9 files: 100%"
      }
     },
     "5501a37d0bf0494bac8bd5457a77abf6": {
      "model_module": "@jupyter-widgets/controls",
      "model_module_version": "2.0.0",
      "model_name": "HTMLModel",
      "state": {
       "layout": "IPY_MODEL_8135080d77094001abfdd69a94a1ab2c",
       "style": "IPY_MODEL_465df3e4d59e4f9d8224a6348ae34c45",
       "value": " 695/695 [00:00&lt;00:00, 36.6kB/s]"
      }
     },
     "5832db6007794991afc9dd61c3823b86": {
      "model_module": "@jupyter-widgets/base",
      "model_module_version": "2.0.0",
      "model_name": "LayoutModel",
      "state": {}
     },
     "5926aea5bfb34bd48a278dd710078dc9": {
      "model_module": "@jupyter-widgets/controls",
      "model_module_version": "2.0.0",
      "model_name": "HBoxModel",
      "state": {
       "children": [
        "IPY_MODEL_27ba787c9fd64a65a894409800eae1d9",
        "IPY_MODEL_3564fbb23d3c4fb0b36fc2a98a3657a8",
        "IPY_MODEL_e5aa75fe0b2d47a3a02d5fb7982a2c06"
       ],
       "layout": "IPY_MODEL_3daffa07f10b489c900b87a411e7cbc4"
      }
     },
     "5b348a9a3a1741eba851230483f67db4": {
      "model_module": "@jupyter-widgets/base",
      "model_module_version": "2.0.0",
      "model_name": "LayoutModel",
      "state": {}
     },
     "5b8fe0567a0f47d0b5935bee75b9cacf": {
      "model_module": "@jupyter-widgets/controls",
      "model_module_version": "2.0.0",
      "model_name": "ProgressStyleModel",
      "state": {
       "description_width": ""
      }
     },
     "601c1ee666024118973866e81aca14a1": {
      "model_module": "@jupyter-widgets/controls",
      "model_module_version": "2.0.0",
      "model_name": "HTMLModel",
      "state": {
       "layout": "IPY_MODEL_6918ddc18f634a0090dca3ec0e992e99",
       "style": "IPY_MODEL_988e71f58d304f32af777c7eb70a4683",
       "value": " 66.5M/66.5M [00:00&lt;00:00, 114MB/s]"
      }
     },
     "609252f05a7147e9910e4ff8c43399c0": {
      "model_module": "@jupyter-widgets/controls",
      "model_module_version": "2.0.0",
      "model_name": "HTMLModel",
      "state": {
       "layout": "IPY_MODEL_29b5ffabe4824062b25a51bb0377ffb1",
       "style": "IPY_MODEL_b34f4a8432a54b969d3095934f8e3fb5",
       "value": "model_optimized.onnx: 100%"
      }
     },
     "638d304336e24bd69b70b17bb66f50ff": {
      "model_module": "@jupyter-widgets/controls",
      "model_module_version": "2.0.0",
      "model_name": "HTMLModel",
      "state": {
       "layout": "IPY_MODEL_8020e1d777814e5f83e7cdc2650a0119",
       "style": "IPY_MODEL_fa720e8ce22a465bb448779c1e7bdc4f",
       "value": ".gitattributes: 100%"
      }
     },
     "65477444757f40b69c60d64ae09aa3b1": {
      "model_module": "@jupyter-widgets/controls",
      "model_module_version": "2.0.0",
      "model_name": "HTMLModel",
      "state": {
       "layout": "IPY_MODEL_94d1e866cd3c4df99fdd7e47b2513394",
       "style": "IPY_MODEL_b34c44dfddfb4ef6a991e5912e65f297",
       "value": " 706/706 [00:00&lt;00:00, 27.7kB/s]"
      }
     },
     "6584c21bb5724dab93583061c811d706": {
      "model_module": "@jupyter-widgets/controls",
      "model_module_version": "2.0.0",
      "model_name": "ProgressStyleModel",
      "state": {
       "description_width": ""
      }
     },
     "668a9249b84b428eba856cab6e2c48c9": {
      "model_module": "@jupyter-widgets/controls",
      "model_module_version": "2.0.0",
      "model_name": "ProgressStyleModel",
      "state": {
       "description_width": ""
      }
     },
     "6918ddc18f634a0090dca3ec0e992e99": {
      "model_module": "@jupyter-widgets/base",
      "model_module_version": "2.0.0",
      "model_name": "LayoutModel",
      "state": {}
     },
     "695f170d93b74d32b2621ecf96054a48": {
      "model_module": "@jupyter-widgets/controls",
      "model_module_version": "2.0.0",
      "model_name": "FloatProgressModel",
      "state": {
       "bar_style": "success",
       "layout": "IPY_MODEL_3b1482a868fc43c8a2a0bef8a77a7c76",
       "max": 706,
       "style": "IPY_MODEL_ae32e8e90a594cbbaaa9f712313ff805",
       "value": 706
      }
     },
     "6f81be7e3694493aaaadf07b38ec5580": {
      "model_module": "@jupyter-widgets/controls",
      "model_module_version": "2.0.0",
      "model_name": "HTMLModel",
      "state": {
       "layout": "IPY_MODEL_8ef86ea46aae4421950d0f3b744e8703",
       "style": "IPY_MODEL_e54aa9a33d3446ab9b136a8642227293",
       "value": " 1.52k/1.52k [00:00&lt;00:00, 84.4kB/s]"
      }
     },
     "6fba5810e8fa41fe83dacb0c8c0b59fd": {
      "model_module": "@jupyter-widgets/base",
      "model_module_version": "2.0.0",
      "model_name": "LayoutModel",
      "state": {}
     },
     "70a758ba62104aba9add9265ca4e9ef7": {
      "model_module": "@jupyter-widgets/base",
      "model_module_version": "2.0.0",
      "model_name": "LayoutModel",
      "state": {}
     },
     "754e00935f574a65ba3391e08781b08c": {
      "model_module": "@jupyter-widgets/controls",
      "model_module_version": "2.0.0",
      "model_name": "HTMLStyleModel",
      "state": {
       "description_width": "",
       "font_size": null,
       "text_color": null
      }
     },
     "76023f13361a4b2ea28e06daedf594fc": {
      "model_module": "@jupyter-widgets/controls",
      "model_module_version": "2.0.0",
      "model_name": "HTMLModel",
      "state": {
       "layout": "IPY_MODEL_f2a23c31651c4cc19c09550d9511feb9",
       "style": "IPY_MODEL_b5cb7d238c5e46c992f8f23befd20c69",
       "value": "tokenizer_config.json: 100%"
      }
     },
     "766b548f93dc4b90b65e794638e60ee2": {
      "model_module": "@jupyter-widgets/controls",
      "model_module_version": "2.0.0",
      "model_name": "ProgressStyleModel",
      "state": {
       "description_width": ""
      }
     },
     "7bfa94f1cfc64a63b7c01f0318287f74": {
      "model_module": "@jupyter-widgets/base",
      "model_module_version": "2.0.0",
      "model_name": "LayoutModel",
      "state": {}
     },
     "7cc2f2652cd64c5c94245304614433e3": {
      "model_module": "@jupyter-widgets/base",
      "model_module_version": "2.0.0",
      "model_name": "LayoutModel",
      "state": {}
     },
     "7fa62d85d761474b9b4dda0755751175": {
      "model_module": "@jupyter-widgets/controls",
      "model_module_version": "2.0.0",
      "model_name": "FloatProgressModel",
      "state": {
       "bar_style": "success",
       "layout": "IPY_MODEL_5832db6007794991afc9dd61c3823b86",
       "max": 9,
       "style": "IPY_MODEL_766b548f93dc4b90b65e794638e60ee2",
       "value": 9
      }
     },
     "8020e1d777814e5f83e7cdc2650a0119": {
      "model_module": "@jupyter-widgets/base",
      "model_module_version": "2.0.0",
      "model_name": "LayoutModel",
      "state": {}
     },
     "8135080d77094001abfdd69a94a1ab2c": {
      "model_module": "@jupyter-widgets/base",
      "model_module_version": "2.0.0",
      "model_name": "LayoutModel",
      "state": {}
     },
     "83801350da374661aeb384aea14b2df8": {
      "model_module": "@jupyter-widgets/controls",
      "model_module_version": "2.0.0",
      "model_name": "ProgressStyleModel",
      "state": {
       "description_width": ""
      }
     },
     "83bb7b04f40b465497898657be38e6c2": {
      "model_module": "@jupyter-widgets/base",
      "model_module_version": "2.0.0",
      "model_name": "LayoutModel",
      "state": {}
     },
     "84932d00eeaf4368a32b1e123a32b941": {
      "model_module": "@jupyter-widgets/base",
      "model_module_version": "2.0.0",
      "model_name": "LayoutModel",
      "state": {}
     },
     "871a95fb43894e7fbc81d1683b8ae986": {
      "model_module": "@jupyter-widgets/controls",
      "model_module_version": "2.0.0",
      "model_name": "ProgressStyleModel",
      "state": {
       "description_width": ""
      }
     },
     "88b0057efea34c2ca96aa18e2397db20": {
      "model_module": "@jupyter-widgets/controls",
      "model_module_version": "2.0.0",
      "model_name": "FloatProgressModel",
      "state": {
       "bar_style": "success",
       "layout": "IPY_MODEL_935e46ce9e5a46eeb97816edbaedbbc2",
       "max": 1242,
       "style": "IPY_MODEL_b4499b03e4d246ae8af904cec9fb1ef0",
       "value": 1242
      }
     },
     "8d188e646c3a4c59ad3ac8c00d73db14": {
      "model_module": "@jupyter-widgets/controls",
      "model_module_version": "2.0.0",
      "model_name": "HTMLStyleModel",
      "state": {
       "description_width": "",
       "font_size": null,
       "text_color": null
      }
     },
     "8ef86ea46aae4421950d0f3b744e8703": {
      "model_module": "@jupyter-widgets/base",
      "model_module_version": "2.0.0",
      "model_name": "LayoutModel",
      "state": {}
     },
     "90599f55741e4c3ca4a6c3a2dd3fe656": {
      "model_module": "@jupyter-widgets/controls",
      "model_module_version": "2.0.0",
      "model_name": "FloatProgressModel",
      "state": {
       "bar_style": "success",
       "layout": "IPY_MODEL_f93ff2e450d54ef0bc895878e10d604f",
       "max": 9,
       "style": "IPY_MODEL_4bce3ceefae4407ab3669fe4f71d8581",
       "value": 9
      }
     },
     "935e46ce9e5a46eeb97816edbaedbbc2": {
      "model_module": "@jupyter-widgets/base",
      "model_module_version": "2.0.0",
      "model_name": "LayoutModel",
      "state": {}
     },
     "94d1e866cd3c4df99fdd7e47b2513394": {
      "model_module": "@jupyter-widgets/base",
      "model_module_version": "2.0.0",
      "model_name": "LayoutModel",
      "state": {}
     },
     "988e71f58d304f32af777c7eb70a4683": {
      "model_module": "@jupyter-widgets/controls",
      "model_module_version": "2.0.0",
      "model_name": "HTMLStyleModel",
      "state": {
       "description_width": "",
       "font_size": null,
       "text_color": null
      }
     },
     "99aeb83ff11d4c8b9dcd11bbfca65b95": {
      "model_module": "@jupyter-widgets/base",
      "model_module_version": "2.0.0",
      "model_name": "LayoutModel",
      "state": {}
     },
     "a4d58cb4fdaa4e8da632eda91c729251": {
      "model_module": "@jupyter-widgets/controls",
      "model_module_version": "2.0.0",
      "model_name": "HTMLStyleModel",
      "state": {
       "description_width": "",
       "font_size": null,
       "text_color": null
      }
     },
     "a871ce3e2ae24017b4e79c4e66ceb903": {
      "model_module": "@jupyter-widgets/controls",
      "model_module_version": "2.0.0",
      "model_name": "FloatProgressModel",
      "state": {
       "bar_style": "success",
       "layout": "IPY_MODEL_7cc2f2652cd64c5c94245304614433e3",
       "max": 695,
       "style": "IPY_MODEL_83801350da374661aeb384aea14b2df8",
       "value": 695
      }
     },
     "a905d81cf24549b28764a6217c123778": {
      "model_module": "@jupyter-widgets/controls",
      "model_module_version": "2.0.0",
      "model_name": "HTMLModel",
      "state": {
       "layout": "IPY_MODEL_99aeb83ff11d4c8b9dcd11bbfca65b95",
       "style": "IPY_MODEL_e8af7b2e2e604012831dc94b71507d56",
       "value": " 1.27k/1.27k [00:00&lt;00:00, 38.6kB/s]"
      }
     },
     "ae32e8e90a594cbbaaa9f712313ff805": {
      "model_module": "@jupyter-widgets/controls",
      "model_module_version": "2.0.0",
      "model_name": "ProgressStyleModel",
      "state": {
       "description_width": ""
      }
     },
     "ae9f5365bfc34aa7959bf59e527e6339": {
      "model_module": "@jupyter-widgets/controls",
      "model_module_version": "2.0.0",
      "model_name": "FloatProgressModel",
      "state": {
       "bar_style": "success",
       "layout": "IPY_MODEL_e9c823be90d743d7894281c20048b67f",
       "max": 1272,
       "style": "IPY_MODEL_5b8fe0567a0f47d0b5935bee75b9cacf",
       "value": 1272
      }
     },
     "b01ff7a694234d1a8f840cb0cd34a4e9": {
      "model_module": "@jupyter-widgets/controls",
      "model_module_version": "2.0.0",
      "model_name": "HTMLModel",
      "state": {
       "layout": "IPY_MODEL_0a18e30b560d4d4193d93c66f86cadea",
       "style": "IPY_MODEL_234b6a75c001497ebde5004452103d24",
       "value": " 711k/711k [00:00&lt;00:00, 12.0MB/s]"
      }
     },
     "b34c44dfddfb4ef6a991e5912e65f297": {
      "model_module": "@jupyter-widgets/controls",
      "model_module_version": "2.0.0",
      "model_name": "HTMLStyleModel",
      "state": {
       "description_width": "",
       "font_size": null,
       "text_color": null
      }
     },
     "b34f4a8432a54b969d3095934f8e3fb5": {
      "model_module": "@jupyter-widgets/controls",
      "model_module_version": "2.0.0",
      "model_name": "HTMLStyleModel",
      "state": {
       "description_width": "",
       "font_size": null,
       "text_color": null
      }
     },
     "b4499b03e4d246ae8af904cec9fb1ef0": {
      "model_module": "@jupyter-widgets/controls",
      "model_module_version": "2.0.0",
      "model_name": "ProgressStyleModel",
      "state": {
       "description_width": ""
      }
     },
     "b5cb7d238c5e46c992f8f23befd20c69": {
      "model_module": "@jupyter-widgets/controls",
      "model_module_version": "2.0.0",
      "model_name": "HTMLStyleModel",
      "state": {
       "description_width": "",
       "font_size": null,
       "text_color": null
      }
     },
     "b77e5c4d18104c7b84ef5b3b3a0c4a51": {
      "model_module": "@jupyter-widgets/base",
      "model_module_version": "2.0.0",
      "model_name": "LayoutModel",
      "state": {}
     },
     "b869ebece57e45db804beb7c1a38c88a": {
      "model_module": "@jupyter-widgets/controls",
      "model_module_version": "2.0.0",
      "model_name": "HTMLModel",
      "state": {
       "layout": "IPY_MODEL_f89cb849355848cbacea6967970e3f35",
       "style": "IPY_MODEL_a4d58cb4fdaa4e8da632eda91c729251",
       "value": "Fetching 9 files: 100%"
      }
     },
     "bb7b76141e7242dab87cb23c40ca49ed": {
      "model_module": "@jupyter-widgets/base",
      "model_module_version": "2.0.0",
      "model_name": "LayoutModel",
      "state": {}
     },
     "bf777cffaa0c4789af86eae27dbbbba7": {
      "model_module": "@jupyter-widgets/base",
      "model_module_version": "2.0.0",
      "model_name": "LayoutModel",
      "state": {}
     },
     "c399c43ab0504deaade666a3968fadc3": {
      "model_module": "@jupyter-widgets/base",
      "model_module_version": "2.0.0",
      "model_name": "LayoutModel",
      "state": {}
     },
     "c400c3db82d84760a17631b253afc998": {
      "model_module": "@jupyter-widgets/controls",
      "model_module_version": "2.0.0",
      "model_name": "HTMLStyleModel",
      "state": {
       "description_width": "",
       "font_size": null,
       "text_color": null
      }
     },
     "c57d5ca3041b4393bfb66030952b2428": {
      "model_module": "@jupyter-widgets/base",
      "model_module_version": "2.0.0",
      "model_name": "LayoutModel",
      "state": {}
     },
     "c728fd19115b41c6bba3ea5948ab8b19": {
      "model_module": "@jupyter-widgets/controls",
      "model_module_version": "2.0.0",
      "model_name": "HBoxModel",
      "state": {
       "children": [
        "IPY_MODEL_53e4fa8be92f4e1693c41a0ce5d77ad6",
        "IPY_MODEL_7fa62d85d761474b9b4dda0755751175",
        "IPY_MODEL_4ffd7debfe874f77b03730b03a75d190"
       ],
       "layout": "IPY_MODEL_83bb7b04f40b465497898657be38e6c2"
      }
     },
     "c8498a70401b46a6a680a2b55908c657": {
      "model_module": "@jupyter-widgets/base",
      "model_module_version": "2.0.0",
      "model_name": "LayoutModel",
      "state": {}
     },
     "cc404358f51f458e937ac79dfacb2aea": {
      "model_module": "@jupyter-widgets/base",
      "model_module_version": "2.0.0",
      "model_name": "LayoutModel",
      "state": {}
     },
     "ce744cc1df794de9aa451c8a18cb7784": {
      "model_module": "@jupyter-widgets/base",
      "model_module_version": "2.0.0",
      "model_name": "LayoutModel",
      "state": {}
     },
     "d04a49ec494947699b499a036fa17338": {
      "model_module": "@jupyter-widgets/controls",
      "model_module_version": "2.0.0",
      "model_name": "FloatProgressModel",
      "state": {
       "bar_style": "success",
       "layout": "IPY_MODEL_15eeedfaf0084bbf808fc9ef1b1beee2",
       "max": 711396,
       "style": "IPY_MODEL_668a9249b84b428eba856cab6e2c48c9",
       "value": 711396
      }
     },
     "d2282dbbb614494fa223266bee1c56c3": {
      "model_module": "@jupyter-widgets/controls",
      "model_module_version": "2.0.0",
      "model_name": "HTMLStyleModel",
      "state": {
       "description_width": "",
       "font_size": null,
       "text_color": null
      }
     },
     "d356533eb6aa44679db35ffce0ac918e": {
      "model_module": "@jupyter-widgets/base",
      "model_module_version": "2.0.0",
      "model_name": "LayoutModel",
      "state": {}
     },
     "d6db404292bd47ada4a24362ab6ae0e8": {
      "model_module": "@jupyter-widgets/controls",
      "model_module_version": "2.0.0",
      "model_name": "ProgressStyleModel",
      "state": {
       "description_width": ""
      }
     },
     "dc2a7c5f43da4f3ca11d3fa0f309d708": {
      "model_module": "@jupyter-widgets/controls",
      "model_module_version": "2.0.0",
      "model_name": "HTMLStyleModel",
      "state": {
       "description_width": "",
       "font_size": null,
       "text_color": null
      }
     },
     "dcea7a4eb07f4a8b94b0029f8326b5ad": {
      "model_module": "@jupyter-widgets/controls",
      "model_module_version": "2.0.0",
      "model_name": "HTMLModel",
      "state": {
       "layout": "IPY_MODEL_42541e974a21456eab6347a023bb15ed",
       "style": "IPY_MODEL_8d188e646c3a4c59ad3ac8c00d73db14",
       "value": "Fetching 9 files: 100%"
      }
     },
     "ddfcfd734eeb4970b3f0fcd83ad307d8": {
      "model_module": "@jupyter-widgets/base",
      "model_module_version": "2.0.0",
      "model_name": "LayoutModel",
      "state": {}
     },
     "dfbb0ad9b4ed4d93bfd5edae6e4f8f06": {
      "model_module": "@jupyter-widgets/controls",
      "model_module_version": "2.0.0",
      "model_name": "HTMLModel",
      "state": {
       "layout": "IPY_MODEL_f7a46b7062af45e0a795843fae623f4b",
       "style": "IPY_MODEL_f9a8e34d3394445e841d3072c8e74936",
       "value": "ort_config.json: 100%"
      }
     },
     "e1020e9960e947879fa974a3731d7c68": {
      "model_module": "@jupyter-widgets/controls",
      "model_module_version": "2.0.0",
      "model_name": "HBoxModel",
      "state": {
       "children": [
        "IPY_MODEL_609252f05a7147e9910e4ff8c43399c0",
        "IPY_MODEL_243d04709a8643c29aa0a36a8079746d",
        "IPY_MODEL_601c1ee666024118973866e81aca14a1"
       ],
       "layout": "IPY_MODEL_7bfa94f1cfc64a63b7c01f0318287f74"
      }
     },
     "e28a654ed6c8457fb01c14ad281a3f1f": {
      "model_module": "@jupyter-widgets/base",
      "model_module_version": "2.0.0",
      "model_name": "LayoutModel",
      "state": {}
     },
     "e30cb7cf919c4c2f9b18a633c9275ce8": {
      "model_module": "@jupyter-widgets/base",
      "model_module_version": "2.0.0",
      "model_name": "LayoutModel",
      "state": {}
     },
     "e54aa9a33d3446ab9b136a8642227293": {
      "model_module": "@jupyter-widgets/controls",
      "model_module_version": "2.0.0",
      "model_name": "HTMLStyleModel",
      "state": {
       "description_width": "",
       "font_size": null,
       "text_color": null
      }
     },
     "e5aa75fe0b2d47a3a02d5fb7982a2c06": {
      "model_module": "@jupyter-widgets/controls",
      "model_module_version": "2.0.0",
      "model_name": "HTMLModel",
      "state": {
       "layout": "IPY_MODEL_70a758ba62104aba9add9265ca4e9ef7",
       "style": "IPY_MODEL_37465b50ec9940a2bdf7b7d4e21729c6",
       "value": " 232k/232k [00:00&lt;00:00, 5.01MB/s]"
      }
     },
     "e75f67607f67468e9e0864ab348d0d45": {
      "model_module": "@jupyter-widgets/controls",
      "model_module_version": "2.0.0",
      "model_name": "HTMLModel",
      "state": {
       "layout": "IPY_MODEL_484807564af24f20a4aef28c2fdc4ccc",
       "style": "IPY_MODEL_17a83a53503f41f395cecfca1ac54759",
       "value": "config.json: 100%"
      }
     },
     "e8af7b2e2e604012831dc94b71507d56": {
      "model_module": "@jupyter-widgets/controls",
      "model_module_version": "2.0.0",
      "model_name": "HTMLStyleModel",
      "state": {
       "description_width": "",
       "font_size": null,
       "text_color": null
      }
     },
     "e9c823be90d743d7894281c20048b67f": {
      "model_module": "@jupyter-widgets/base",
      "model_module_version": "2.0.0",
      "model_name": "LayoutModel",
      "state": {}
     },
     "eae677feeb524866b63e0500bb4b5e98": {
      "model_module": "@jupyter-widgets/controls",
      "model_module_version": "2.0.0",
      "model_name": "HTMLModel",
      "state": {
       "layout": "IPY_MODEL_ce744cc1df794de9aa451c8a18cb7784",
       "style": "IPY_MODEL_29ab43a2dfa545379a284de1e684950d",
       "value": " 9/9 [00:00&lt;00:00, 1799.79it/s]"
      }
     },
     "ec0b119c751f4574a147dcbd062ea3c3": {
      "model_module": "@jupyter-widgets/controls",
      "model_module_version": "2.0.0",
      "model_name": "HBoxModel",
      "state": {
       "children": [
        "IPY_MODEL_76023f13361a4b2ea28e06daedf594fc",
        "IPY_MODEL_88b0057efea34c2ca96aa18e2397db20",
        "IPY_MODEL_382393313d6d40408c4b1c6df23ee888"
       ],
       "layout": "IPY_MODEL_2885e6b7d0fb48dcaddb964a433cab19"
      }
     },
     "ed205bf7cd9b4937a883c49c64bfad59": {
      "model_module": "@jupyter-widgets/controls",
      "model_module_version": "2.0.0",
      "model_name": "FloatProgressModel",
      "state": {
       "bar_style": "success",
       "layout": "IPY_MODEL_bb7b76141e7242dab87cb23c40ca49ed",
       "max": 1519,
       "style": "IPY_MODEL_6584c21bb5724dab93583061c811d706",
       "value": 1519
      }
     },
     "f2a23c31651c4cc19c09550d9511feb9": {
      "model_module": "@jupyter-widgets/base",
      "model_module_version": "2.0.0",
      "model_name": "LayoutModel",
      "state": {}
     },
     "f7a46b7062af45e0a795843fae623f4b": {
      "model_module": "@jupyter-widgets/base",
      "model_module_version": "2.0.0",
      "model_name": "LayoutModel",
      "state": {}
     },
     "f89cb849355848cbacea6967970e3f35": {
      "model_module": "@jupyter-widgets/base",
      "model_module_version": "2.0.0",
      "model_name": "LayoutModel",
      "state": {}
     },
     "f93ff2e450d54ef0bc895878e10d604f": {
      "model_module": "@jupyter-widgets/base",
      "model_module_version": "2.0.0",
      "model_name": "LayoutModel",
      "state": {}
     },
     "f94a4ad60b6c464cae7d3fe783eb66db": {
      "model_module": "@jupyter-widgets/controls",
      "model_module_version": "2.0.0",
      "model_name": "HTMLStyleModel",
      "state": {
       "description_width": "",
       "font_size": null,
       "text_color": null
      }
     },
     "f9a8e34d3394445e841d3072c8e74936": {
      "model_module": "@jupyter-widgets/controls",
      "model_module_version": "2.0.0",
      "model_name": "HTMLStyleModel",
      "state": {
       "description_width": "",
       "font_size": null,
       "text_color": null
      }
     },
     "fa720e8ce22a465bb448779c1e7bdc4f": {
      "model_module": "@jupyter-widgets/controls",
      "model_module_version": "2.0.0",
      "model_name": "HTMLStyleModel",
      "state": {
       "description_width": "",
       "font_size": null,
       "text_color": null
      }
     },
     "fadacf52c28d471fb2a4d03b3aab2dbf": {
      "model_module": "@jupyter-widgets/controls",
      "model_module_version": "2.0.0",
      "model_name": "HBoxModel",
      "state": {
       "children": [
        "IPY_MODEL_dcea7a4eb07f4a8b94b0029f8326b5ad",
        "IPY_MODEL_3b4d5c87c6fd488cbf92fae5c674d9c0",
        "IPY_MODEL_3c30ae35102c4faaa8f46f02a93ec8d6"
       ],
       "layout": "IPY_MODEL_519f3d0999be465d87f8b3b8fb5b6b70"
      }
     },
     "ff5d3ea29527464396b4e329cbd357c6": {
      "model_module": "@jupyter-widgets/base",
      "model_module_version": "2.0.0",
      "model_name": "LayoutModel",
      "state": {}
     }
    },
    "version_major": 2,
    "version_minor": 0
   }
  }
 },
 "nbformat": 4,
 "nbformat_minor": 5
}
